{
  "nbformat": 4,
  "nbformat_minor": 0,
  "metadata": {
    "colab": {
      "name": "train_classifier.ipynb",
      "provenance": [],
      "collapsed_sections": [],
      "machine_shape": "hm",
      "include_colab_link": true
    },
    "kernelspec": {
      "name": "python3",
      "display_name": "Python 3"
    },
    "accelerator": "GPU"
  },
  "cells": [
    {
      "cell_type": "markdown",
      "metadata": {
        "id": "view-in-github",
        "colab_type": "text"
      },
      "source": [
        "<a href=\"https://colab.research.google.com/github/Chubbyman2/Emotion_Detector/blob/main/Emotion_Detector.ipynb\" target=\"_parent\"><img src=\"https://colab.research.google.com/assets/colab-badge.svg\" alt=\"Open In Colab\"/></a>"
      ]
    },
    {
      "cell_type": "code",
      "metadata": {
        "id": "iTOesErakfpv"
      },
      "source": [
        "import os\n",
        "import keras\n",
        "import numpy as np\n",
        "from keras import optimizers, models, layers\n",
        "from keras.callbacks import ModelCheckpoint, EarlyStopping, ReduceLROnPlateau\n",
        "from keras.layers import Conv2D, Dense, Dropout, Flatten, Input, MaxPool2D, BatchNormalization, Activation\n",
        "from keras.optimizers import Adam\n",
        "from keras.preprocessing.image import ImageDataGenerator"
      ],
      "execution_count": 2,
      "outputs": []
    },
    {
      "cell_type": "code",
      "metadata": {
        "id": "nYk1TSrdZX8Z"
      },
      "source": [
        "import zipfile\n",
        "from google.colab import drive\n",
        "drive.mount('/content/drive/')\n",
        "\n",
        "!unzip \"/content/drive/My Drive/facial_expressions_train.zip\"\n",
        "!unzip \"/content/drive/My Drive/facial_expressions_validation.zip\""
      ],
      "execution_count": null,
      "outputs": []
    },
    {
      "cell_type": "code",
      "metadata": {
        "id": "5CgeZd30mFYT"
      },
      "source": [
        "train_dir = \"train\"\n",
        "val_dir = \"validation\""
      ],
      "execution_count": 4,
      "outputs": []
    },
    {
      "cell_type": "code",
      "metadata": {
        "colab": {
          "base_uri": "https://localhost:8080/",
          "height": 82
        },
        "id": "arTbWRdTZdbU",
        "outputId": "abdf6863-ca69-4a4d-f6a8-5b1710ca6cac"
      },
      "source": [
        "# Image sample from dataset\n",
        "# Note that they are all grayscale images with size 48x48\n",
        "from PIL import Image\n",
        "\n",
        "img = Image.open(\"train/Angry/0.jpg\")\n",
        "print(img.size)\n",
        "img"
      ],
      "execution_count": 7,
      "outputs": [
        {
          "output_type": "stream",
          "text": [
            "(48, 48)\n"
          ],
          "name": "stdout"
        },
        {
          "output_type": "execute_result",
          "data": {
            "image/png": "[encoded data removed]",
            "text/plain": [
              "<PIL.JpegImagePlugin.JpegImageFile image mode=L size=48x48 at 0x7F602DF3A2E8>"
            ]
          },
          "metadata": {
            "tags": []
          },
          "execution_count": 7
        }
      ]
    },
    {
      "cell_type": "markdown",
      "metadata": {
        "id": "kBbmZyDkvoMa"
      },
      "source": [
        "**Data Pre-Processing**"
      ]
    },
    {
      "cell_type": "code",
      "metadata": {
        "colab": {
          "base_uri": "https://localhost:8080/"
        },
        "id": "p7ha7jFlvPwV",
        "outputId": "68b65a29-601c-40cb-b4f8-6b425758be61"
      },
      "source": [
        "# Create a dictionary of the classes and a reverse dictionary\n",
        "classes = dict()\n",
        "reverse_classes = dict()\n",
        "count = 0\n",
        "for folder in os.listdir(\"train\"):\n",
        "    classes[folder] = count\n",
        "    reverse_classes[count] = img\n",
        "    count = count + 1\n",
        "\n",
        "classes"
      ],
      "execution_count": 8,
      "outputs": [
        {
          "output_type": "execute_result",
          "data": {
            "text/plain": [
              "{'Angry': 2, 'Happy': 4, 'Neutral': 1, 'Sad': 0, 'Surprise': 3}"
            ]
          },
          "metadata": {
            "tags": []
          },
          "execution_count": 8
        }
      ]
    },
    {
      "cell_type": "code",
      "metadata": {
        "id": "lZyc0nM8l68M"
      },
      "source": [
        "BATCH_SIZE = 64\n",
        "\n",
        "# Since the data is separated into training and validation sets this time\n",
        "# we can use the ImageDataGenerator directly\n",
        "\n",
        "# Data augmentation for train only\n",
        "train_datagen = ImageDataGenerator(rescale=1./255,\n",
        "                                   rotation_range=30,\n",
        "                                   shear_range=0.3,\n",
        "                                   width_shift_range=0.3,\n",
        "                                   height_shift_range=0.3,\n",
        "                                   zoom_range=0.3,\n",
        "                                   horizontal_flip=True,\n",
        "                                   fill_mode=\"nearest\")\n",
        "# Resize only\n",
        "val_datagen = ImageDataGenerator(rescale=1./255)"
      ],
      "execution_count": 9,
      "outputs": []
    },
    {
      "cell_type": "code",
      "metadata": {
        "colab": {
          "base_uri": "https://localhost:8080/"
        },
        "id": "e_e0F0g5nAwk",
        "outputId": "52b942c5-bda3-4e49-b04b-b9a40b3b1f05"
      },
      "source": [
        "# Create the generators for model.fit()\n",
        "train_generator = train_datagen.flow_from_directory(train_dir,\n",
        "                                                    color_mode='grayscale',\n",
        "                                                    target_size=(48, 48),\n",
        "                                                    batch_size=BATCH_SIZE,\n",
        "                                                    class_mode='categorical',\n",
        "                                                    shuffle=True)\n",
        "\n",
        "val_generator = val_datagen.flow_from_directory(val_dir,\n",
        "                                                color_mode='grayscale',\n",
        "                                                target_size=(48, 48),\n",
        "                                                batch_size=BATCH_SIZE,\n",
        "                                                class_mode='categorical',\n",
        "                                                shuffle=True)\n",
        "\n",
        "# Note the text shown\n",
        "num_train = 24256\n",
        "num_val = 3006"
      ],
      "execution_count": 10,
      "outputs": [
        {
          "output_type": "stream",
          "text": [
            "Found 24256 images belonging to 5 classes.\n",
            "Found 3006 images belonging to 5 classes.\n"
          ],
          "name": "stdout"
        }
      ]
    },
    {
      "cell_type": "markdown",
      "metadata": {
        "id": "8NCTJyAtvlWi"
      },
      "source": [
        "**Create Model**"
      ]
    },
    {
      "cell_type": "code",
      "metadata": {
        "id": "z2ubgKVGnd3t"
      },
      "source": [
        "# Apply batchnormalization before activation function\n",
        "# He normal initialization works best on layers w/ ReLU activation\n",
        "model = models.Sequential([\n",
        "    # Block 1\n",
        "    # Leave strides as default since images are small\n",
        "    Conv2D(32, (3, 3), padding=\"same\", kernel_initializer=\"he_normal\", input_shape=(48, 48, 1)),\n",
        "    BatchNormalization(),\n",
        "    Activation(\"relu\"),\n",
        "    Conv2D(32, (3, 3), padding=\"same\", kernel_initializer=\"he_normal\"),\n",
        "    BatchNormalization(),\n",
        "    Activation(\"relu\"),\n",
        "    MaxPool2D((2, 2)),\n",
        "    Dropout(0.25),\n",
        "\n",
        "    # Block 2\n",
        "    Conv2D(64, (3, 3), padding=\"same\", kernel_initializer=\"he_normal\"),\n",
        "    BatchNormalization(),\n",
        "    Activation(\"relu\"),\n",
        "    Conv2D(64, (3, 3), padding=\"same\", kernel_initializer=\"he_normal\"),\n",
        "    BatchNormalization(),\n",
        "    Activation(\"relu\"),\n",
        "    MaxPool2D((2, 2)),\n",
        "    Dropout(0.25),\n",
        "\n",
        "    # Block 3\n",
        "    Conv2D(128, (3, 3), padding=\"same\", kernel_initializer=\"he_normal\"),\n",
        "    BatchNormalization(),\n",
        "    Activation(\"relu\"),\n",
        "    Conv2D(128, (3, 3), padding=\"same\", kernel_initializer=\"he_normal\"),\n",
        "    BatchNormalization(),\n",
        "    Activation(\"relu\"),\n",
        "    MaxPool2D((2, 2)),\n",
        "    Dropout(0.25),\n",
        "\n",
        "    # Block 4\n",
        "    Conv2D(256, (3, 3), padding=\"same\", kernel_initializer=\"he_normal\"),\n",
        "    BatchNormalization(),\n",
        "    Activation(\"relu\"),\n",
        "    Conv2D(256, (3, 3), padding=\"same\", kernel_initializer=\"he_normal\"),\n",
        "    BatchNormalization(),\n",
        "    Activation(\"relu\"),\n",
        "    MaxPool2D((2, 2)),\n",
        "    Dropout(0.25),\n",
        "\n",
        "    # Block 5\n",
        "    Flatten(),\n",
        "    Dense(64, kernel_initializer=\"he_normal\"),\n",
        "    BatchNormalization(),\n",
        "    Activation(\"relu\"),\n",
        "    Dropout(0.5),\n",
        "\n",
        "    # Block 6\n",
        "    Dense(128, kernel_initializer=\"he_normal\"),\n",
        "    BatchNormalization(),\n",
        "    Activation(\"relu\"),\n",
        "    Dropout(0.5),\n",
        "\n",
        "    # Output layer\n",
        "    # Xavier (a.k.a. GlorotNormal) works better on layers w/ softmax activation\n",
        "    Dense(5, kernel_initializer=\"glorot_normal\", activation=\"softmax\")\n",
        "])"
      ],
      "execution_count": 11,
      "outputs": []
    },
    {
      "cell_type": "code",
      "metadata": {
        "id": "GWdGQrRMsaV-"
      },
      "source": [
        "model.compile(optimizer=Adam(lr=0.001), loss=\"categorical_crossentropy\", metrics=[\"accuracy\"])"
      ],
      "execution_count": 12,
      "outputs": []
    },
    {
      "cell_type": "code",
      "metadata": {
        "id": "eaeoOv3qrbiP"
      },
      "source": [
        "Checkpoint = ModelCheckpoint(\"emotion_classifier.h5\",\n",
        "                             monitor=\"val_loss\",\n",
        "                             mode=\"min\",\n",
        "                             save_best_only=True,\n",
        "                             verbose=1)\n",
        "EarlyStopping = EarlyStopping(monitor=\"val_loss\",\n",
        "                              min_delta=0,\n",
        "                              patience=3,\n",
        "                              verbose=1,\n",
        "                              restore_best_weights=True)\n",
        "Reduce_LR = ReduceLROnPlateau(monitor=\"val_loss\",\n",
        "                              factor=0.2, # Decrease by 20% each time\n",
        "                              patience=3,\n",
        "                              verbose=1,\n",
        "                              min_delta=0.0001)"
      ],
      "execution_count": 13,
      "outputs": []
    },
    {
      "cell_type": "code",
      "metadata": {
        "colab": {
          "base_uri": "https://localhost:8080/"
        },
        "id": "NtKhSGySsVw5",
        "outputId": "529386e0-f851-4db1-c793-9d0f0e4d382c"
      },
      "source": [
        "history = model.fit(train_generator, \n",
        "                    steps_per_epoch=num_train//BATCH_SIZE,\n",
        "                    epochs=25,\n",
        "                    callbacks=[Checkpoint, EarlyStopping, Reduce_LR],\n",
        "                    validation_data=val_generator,\n",
        "                    validation_steps=num_val//BATCH_SIZE)"
      ],
      "execution_count": 14,
      "outputs": [
        {
          "output_type": "stream",
          "text": [
            "Epoch 1/25\n",
            "379/379 [==============================] - ETA: 0s - loss: 1.7648 - accuracy: 0.2523\n",
            "Epoch 00001: val_loss improved from inf to 1.55815, saving model to emotion_classifier.h5\n",
            "379/379 [==============================] - 22s 58ms/step - loss: 1.7648 - accuracy: 0.2523 - val_loss: 1.5581 - val_accuracy: 0.2945\n",
            "Epoch 2/25\n",
            "379/379 [==============================] - ETA: 0s - loss: 1.6065 - accuracy: 0.2782\n",
            "Epoch 00002: val_loss did not improve from 1.55815\n",
            "379/379 [==============================] - 21s 56ms/step - loss: 1.6065 - accuracy: 0.2782 - val_loss: 1.5845 - val_accuracy: 0.2935\n",
            "Epoch 3/25\n",
            "379/379 [==============================] - ETA: 0s - loss: 1.5629 - accuracy: 0.2939\n",
            "Epoch 00003: val_loss did not improve from 1.55815\n",
            "379/379 [==============================] - 21s 55ms/step - loss: 1.5629 - accuracy: 0.2939 - val_loss: 1.5846 - val_accuracy: 0.2948\n",
            "Epoch 4/25\n",
            "379/379 [==============================] - ETA: 0s - loss: 1.5328 - accuracy: 0.3129\n",
            "Epoch 00004: val_loss improved from 1.55815 to 1.51793, saving model to emotion_classifier.h5\n",
            "379/379 [==============================] - 21s 56ms/step - loss: 1.5328 - accuracy: 0.3129 - val_loss: 1.5179 - val_accuracy: 0.3458\n",
            "Epoch 5/25\n",
            "379/379 [==============================] - ETA: 0s - loss: 1.4638 - accuracy: 0.3557\n",
            "Epoch 00005: val_loss improved from 1.51793 to 1.49259, saving model to emotion_classifier.h5\n",
            "379/379 [==============================] - 21s 57ms/step - loss: 1.4638 - accuracy: 0.3557 - val_loss: 1.4926 - val_accuracy: 0.3916\n",
            "Epoch 6/25\n",
            "378/379 [============================>.] - ETA: 0s - loss: 1.4094 - accuracy: 0.3880\n",
            "Epoch 00006: val_loss improved from 1.49259 to 1.37846, saving model to emotion_classifier.h5\n",
            "379/379 [==============================] - 22s 57ms/step - loss: 1.4096 - accuracy: 0.3878 - val_loss: 1.3785 - val_accuracy: 0.4188\n",
            "Epoch 7/25\n",
            "379/379 [==============================] - ETA: 0s - loss: 1.3411 - accuracy: 0.4308\n",
            "Epoch 00007: val_loss improved from 1.37846 to 1.29957, saving model to emotion_classifier.h5\n",
            "379/379 [==============================] - 21s 55ms/step - loss: 1.3411 - accuracy: 0.4308 - val_loss: 1.2996 - val_accuracy: 0.4511\n",
            "Epoch 8/25\n",
            "379/379 [==============================] - ETA: 0s - loss: 1.2745 - accuracy: 0.4697\n",
            "Epoch 00008: val_loss did not improve from 1.29957\n",
            "379/379 [==============================] - 21s 55ms/step - loss: 1.2745 - accuracy: 0.4697 - val_loss: 1.6050 - val_accuracy: 0.4742\n",
            "Epoch 9/25\n",
            "379/379 [==============================] - ETA: 0s - loss: 1.2181 - accuracy: 0.4976\n",
            "Epoch 00009: val_loss improved from 1.29957 to 1.28719, saving model to emotion_classifier.h5\n",
            "379/379 [==============================] - 21s 56ms/step - loss: 1.2181 - accuracy: 0.4976 - val_loss: 1.2872 - val_accuracy: 0.5248\n",
            "Epoch 10/25\n",
            "379/379 [==============================] - ETA: 0s - loss: 1.1831 - accuracy: 0.5185\n",
            "Epoch 00010: val_loss did not improve from 1.28719\n",
            "379/379 [==============================] - 21s 56ms/step - loss: 1.1831 - accuracy: 0.5185 - val_loss: 1.2952 - val_accuracy: 0.5577\n",
            "Epoch 11/25\n",
            "379/379 [==============================] - ETA: 0s - loss: 1.1511 - accuracy: 0.5354\n",
            "Epoch 00011: val_loss improved from 1.28719 to 1.22681, saving model to emotion_classifier.h5\n",
            "379/379 [==============================] - 21s 56ms/step - loss: 1.1511 - accuracy: 0.5354 - val_loss: 1.2268 - val_accuracy: 0.5537\n",
            "Epoch 12/25\n",
            "379/379 [==============================] - ETA: 0s - loss: 1.1246 - accuracy: 0.5479\n",
            "Epoch 00012: val_loss did not improve from 1.22681\n",
            "379/379 [==============================] - 21s 55ms/step - loss: 1.1246 - accuracy: 0.5479 - val_loss: 1.2918 - val_accuracy: 0.5577\n",
            "Epoch 13/25\n",
            "379/379 [==============================] - ETA: 0s - loss: 1.1062 - accuracy: 0.5571\n",
            "Epoch 00013: val_loss improved from 1.22681 to 1.20617, saving model to emotion_classifier.h5\n",
            "379/379 [==============================] - 21s 56ms/step - loss: 1.1062 - accuracy: 0.5571 - val_loss: 1.2062 - val_accuracy: 0.5642\n",
            "Epoch 14/25\n",
            "379/379 [==============================] - ETA: 0s - loss: 1.0925 - accuracy: 0.5665\n",
            "Epoch 00014: val_loss did not improve from 1.20617\n",
            "379/379 [==============================] - 21s 55ms/step - loss: 1.0925 - accuracy: 0.5665 - val_loss: 1.2751 - val_accuracy: 0.5275\n",
            "Epoch 15/25\n",
            "379/379 [==============================] - ETA: 0s - loss: 1.0700 - accuracy: 0.5766\n",
            "Epoch 00015: val_loss did not improve from 1.20617\n",
            "379/379 [==============================] - 21s 55ms/step - loss: 1.0700 - accuracy: 0.5766 - val_loss: 1.3305 - val_accuracy: 0.5516\n",
            "Epoch 16/25\n",
            "379/379 [==============================] - ETA: 0s - loss: 1.0528 - accuracy: 0.5833\n",
            "Epoch 00016: val_loss did not improve from 1.20617\n",
            "Restoring model weights from the end of the best epoch.\n",
            "\n",
            "Epoch 00016: ReduceLROnPlateau reducing learning rate to 0.00020000000949949026.\n",
            "379/379 [==============================] - 21s 55ms/step - loss: 1.0528 - accuracy: 0.5833 - val_loss: 1.2901 - val_accuracy: 0.5499\n",
            "Epoch 00016: early stopping\n"
          ],
          "name": "stdout"
        }
      ]
    },
    {
      "cell_type": "code",
      "metadata": {
        "id": "vbRkSvKVuz-K"
      },
      "source": [
        "model.save(\"emotion_classifier.h5\")"
      ],
      "execution_count": 15,
      "outputs": []
    },
    {
      "cell_type": "code",
      "metadata": {
        "colab": {
          "base_uri": "https://localhost:8080/"
        },
        "id": "TphXya10vBn5",
        "outputId": "f0cddf5e-aa0a-4bce-9bdd-73e61ea91b40"
      },
      "source": [
        "model.summary()"
      ],
      "execution_count": 16,
      "outputs": [
        {
          "output_type": "stream",
          "text": [
            "Model: \"sequential\"\n",
            "_________________________________________________________________\n",
            "Layer (type)                 Output Shape              Param #   \n",
            "=================================================================\n",
            "conv2d (Conv2D)              (None, 48, 48, 32)        320       \n",
            "_________________________________________________________________\n",
            "batch_normalization (BatchNo (None, 48, 48, 32)        128       \n",
            "_________________________________________________________________\n",
            "activation (Activation)      (None, 48, 48, 32)        0         \n",
            "_________________________________________________________________\n",
            "conv2d_1 (Conv2D)            (None, 48, 48, 32)        9248      \n",
            "_________________________________________________________________\n",
            "batch_normalization_1 (Batch (None, 48, 48, 32)        128       \n",
            "_________________________________________________________________\n",
            "activation_1 (Activation)    (None, 48, 48, 32)        0         \n",
            "_________________________________________________________________\n",
            "max_pooling2d (MaxPooling2D) (None, 24, 24, 32)        0         \n",
            "_________________________________________________________________\n",
            "dropout (Dropout)            (None, 24, 24, 32)        0         \n",
            "_________________________________________________________________\n",
            "conv2d_2 (Conv2D)            (None, 24, 24, 64)        18496     \n",
            "_________________________________________________________________\n",
            "batch_normalization_2 (Batch (None, 24, 24, 64)        256       \n",
            "_________________________________________________________________\n",
            "activation_2 (Activation)    (None, 24, 24, 64)        0         \n",
            "_________________________________________________________________\n",
            "conv2d_3 (Conv2D)            (None, 24, 24, 64)        36928     \n",
            "_________________________________________________________________\n",
            "batch_normalization_3 (Batch (None, 24, 24, 64)        256       \n",
            "_________________________________________________________________\n",
            "activation_3 (Activation)    (None, 24, 24, 64)        0         \n",
            "_________________________________________________________________\n",
            "max_pooling2d_1 (MaxPooling2 (None, 12, 12, 64)        0         \n",
            "_________________________________________________________________\n",
            "dropout_1 (Dropout)          (None, 12, 12, 64)        0         \n",
            "_________________________________________________________________\n",
            "conv2d_4 (Conv2D)            (None, 12, 12, 128)       73856     \n",
            "_________________________________________________________________\n",
            "batch_normalization_4 (Batch (None, 12, 12, 128)       512       \n",
            "_________________________________________________________________\n",
            "activation_4 (Activation)    (None, 12, 12, 128)       0         \n",
            "_________________________________________________________________\n",
            "conv2d_5 (Conv2D)            (None, 12, 12, 128)       147584    \n",
            "_________________________________________________________________\n",
            "batch_normalization_5 (Batch (None, 12, 12, 128)       512       \n",
            "_________________________________________________________________\n",
            "activation_5 (Activation)    (None, 12, 12, 128)       0         \n",
            "_________________________________________________________________\n",
            "max_pooling2d_2 (MaxPooling2 (None, 6, 6, 128)         0         \n",
            "_________________________________________________________________\n",
            "dropout_2 (Dropout)          (None, 6, 6, 128)         0         \n",
            "_________________________________________________________________\n",
            "conv2d_6 (Conv2D)            (None, 6, 6, 256)         295168    \n",
            "_________________________________________________________________\n",
            "batch_normalization_6 (Batch (None, 6, 6, 256)         1024      \n",
            "_________________________________________________________________\n",
            "activation_6 (Activation)    (None, 6, 6, 256)         0         \n",
            "_________________________________________________________________\n",
            "conv2d_7 (Conv2D)            (None, 6, 6, 256)         590080    \n",
            "_________________________________________________________________\n",
            "batch_normalization_7 (Batch (None, 6, 6, 256)         1024      \n",
            "_________________________________________________________________\n",
            "activation_7 (Activation)    (None, 6, 6, 256)         0         \n",
            "_________________________________________________________________\n",
            "max_pooling2d_3 (MaxPooling2 (None, 3, 3, 256)         0         \n",
            "_________________________________________________________________\n",
            "dropout_3 (Dropout)          (None, 3, 3, 256)         0         \n",
            "_________________________________________________________________\n",
            "flatten (Flatten)            (None, 2304)              0         \n",
            "_________________________________________________________________\n",
            "dense (Dense)                (None, 64)                147520    \n",
            "_________________________________________________________________\n",
            "batch_normalization_8 (Batch (None, 64)                256       \n",
            "_________________________________________________________________\n",
            "activation_8 (Activation)    (None, 64)                0         \n",
            "_________________________________________________________________\n",
            "dropout_4 (Dropout)          (None, 64)                0         \n",
            "_________________________________________________________________\n",
            "dense_1 (Dense)              (None, 128)               8320      \n",
            "_________________________________________________________________\n",
            "batch_normalization_9 (Batch (None, 128)               512       \n",
            "_________________________________________________________________\n",
            "activation_9 (Activation)    (None, 128)               0         \n",
            "_________________________________________________________________\n",
            "dropout_5 (Dropout)          (None, 128)               0         \n",
            "_________________________________________________________________\n",
            "dense_2 (Dense)              (None, 5)                 645       \n",
            "=================================================================\n",
            "Total params: 1,332,773\n",
            "Trainable params: 1,330,469\n",
            "Non-trainable params: 2,304\n",
            "_________________________________________________________________\n"
          ],
          "name": "stdout"
        }
      ]
    },
    {
      "cell_type": "code",
      "metadata": {
        "colab": {
          "base_uri": "https://localhost:8080/",
          "height": 65
        },
        "id": "zJFENU0jvCsp",
        "outputId": "022f8a69-7e22-45ff-df06-2a39d2f53ceb"
      },
      "source": [
        "# The model predicted the sample image accurately\n",
        "image = Image.open(\"train/Angry/0.jpg\")\n",
        "image = image.resize((48, 48))\n",
        "arr = np.array(image)\n",
        "x_data = [arr]\n",
        "x_data = np.array(x_data, dtype = \"float32\")\n",
        "x_data = x_data.reshape((len(x_data), 48, 48, 1))\n",
        "x_data /= 255\n",
        "\n",
        "pred_array = model.predict(x_data)\n",
        "result = reverse_classes[np.argmax(pred_array)]\n",
        "result"
      ],
      "execution_count": 17,
      "outputs": [
        {
          "output_type": "execute_result",
          "data": {
            "image/png": "[encoded data removed]",
            "text/plain": [
              "<PIL.JpegImagePlugin.JpegImageFile image mode=L size=48x48 at 0x7F602DF3A2E8>"
            ]
          },
          "metadata": {
            "tags": []
          },
          "execution_count": 17
        }
      ]
    },
    {
      "cell_type": "markdown",
      "metadata": {
        "id": "moldzwawvhyb"
      },
      "source": [
        "**Plot Training and Validation Graphs**"
      ]
    },
    {
      "cell_type": "code",
      "metadata": {
        "colab": {
          "base_uri": "https://localhost:8080/",
          "height": 499
        },
        "id": "QjsuQwjzveBO",
        "outputId": "afdbce9e-3338-4656-8372-136f34926faa"
      },
      "source": [
        "import matplotlib.pyplot as plt\n",
        "acc = history.history['accuracy']\n",
        "val_acc = history.history['val_accuracy']\n",
        "\n",
        "loss = history.history['loss']\n",
        "val_loss = history.history['val_loss']\n",
        "\n",
        "epochs_range = range(16)\n",
        "\n",
        "plt.figure(figsize=(8, 8))\n",
        "plt.subplot(1, 2, 1)\n",
        "plt.plot(epochs_range, acc, label='Training Accuracy')\n",
        "plt.plot(epochs_range, val_acc, label='Validation Accuracy')\n",
        "plt.legend(loc='lower right')\n",
        "plt.title('Training and Validation Accuracy')\n",
        "\n",
        "plt.subplot(1, 2, 2)\n",
        "plt.plot(epochs_range, loss, label='Training Loss')\n",
        "plt.plot(epochs_range, val_loss, label='Validation Loss')\n",
        "plt.legend(loc='upper right')\n",
        "plt.title('Training and Validation Loss')\n",
        "plt.show()"
      ],
      "execution_count": 18,
      "outputs": [
        {
          "output_type": "display_data",
          "data": {
            "image/png": "[encoded data removed]",
            "text/plain": [
              "<Figure size 576x576 with 2 Axes>"
            ]
          },
          "metadata": {
            "tags": [],
            "needs_background": "light"
          }
        }
      ]
    }
  ]
}
